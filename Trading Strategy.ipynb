{
 "cells": [
  {
   "cell_type": "markdown",
   "metadata": {},
   "source": [
    "# Part 5 - Trading Strategy"
   ]
  },
  {
   "cell_type": "markdown",
   "metadata": {},
   "source": [
    "By analysis, the best model is combination of arima and rnn_gru_dropout"
   ]
  },
  {
   "cell_type": "code",
   "execution_count": 1,
   "metadata": {},
   "outputs": [
    {
     "name": "stderr",
     "output_type": "stream",
     "text": [
      "[NbConvertApp] Converting notebook basic_io.ipynb to python\n",
      "[NbConvertApp] Writing 6162 bytes to basic_io.py\n"
     ]
    }
   ],
   "source": [
    "import numpy as np\n",
    "import pandas as pd\n",
    "from functools import reduce\n",
    "from basic_io import value_timeconvert, int_index\n",
    "from basic_io import DataReader, DataSplit"
   ]
  },
  {
   "cell_type": "code",
   "execution_count": 8,
   "metadata": {},
   "outputs": [],
   "source": [
    "import matplotlib.pyplot as plt"
   ]
  },
  {
   "cell_type": "markdown",
   "metadata": {},
   "source": [
    "Prepare Data"
   ]
  },
  {
   "cell_type": "code",
   "execution_count": 2,
   "metadata": {},
   "outputs": [],
   "source": [
    "instance = DataReader('price')\n",
    "feature_list = ['price-volatility', 'daily-transactions', 'chain-value-density',\n",
    "                'hash-rate', 'inflation', 'LTC-USD', 'market-cap', 'miner-revenue',\n",
    "                'transaction-amount', 'transaction-fees', 'transaction-size', 'transaction-value']\n",
    "for feature in feature_list:    \n",
    "    instance.update_columns(feature)\n",
    "instance.format_data()\n",
    "trading_date_list = instance.get_trading_date()\n",
    "instance.unprep_data['return'] =  instance.unprep_data['Bitcoin Core (BTC) Price'].pct_change().replace(np.inf,0).fillna(0).values\n",
    "daily_return = instance.unprep_data['return']\n",
    "df_list = [daily_return]\n",
    "for i in range(1, 7):\n",
    "    df_list.append(daily_return.shift(-i))\n",
    "    daily_return= reduce(lambda  left,right: pd.concat([left,right], axis=1), df_list)\n",
    "daily_return = np.mean(daily_return, axis=1).fillna(0)\n",
    "daily_return = daily_return.fillna(0)\n",
    "data = DataSplit(instance.unprep_data, daily_return, 20100101, 20180630, 20181231, 20190831, 7)"
   ]
  },
  {
   "cell_type": "markdown",
   "metadata": {},
   "source": [
    "Prepare Model"
   ]
  },
  {
   "cell_type": "code",
   "execution_count": 3,
   "metadata": {
    "scrolled": true
   },
   "outputs": [
    {
     "name": "stderr",
     "output_type": "stream",
     "text": [
      "Using TensorFlow backend.\n",
      "[NbConvertApp] Converting notebook model.ipynb to python\n",
      "[NbConvertApp] Writing 19355 bytes to model.py\n"
     ]
    },
    {
     "name": "stdout",
     "output_type": "stream",
     "text": [
      "WARNING:tensorflow:From D:\\anaconda\\lib\\site-packages\\keras\\backend\\tensorflow_backend.py:66: The name tf.get_default_graph is deprecated. Please use tf.compat.v1.get_default_graph instead.\n",
      "\n",
      "WARNING:tensorflow:From D:\\anaconda\\lib\\site-packages\\keras\\backend\\tensorflow_backend.py:541: The name tf.placeholder is deprecated. Please use tf.compat.v1.placeholder instead.\n",
      "\n",
      "WARNING:tensorflow:From D:\\anaconda\\lib\\site-packages\\keras\\backend\\tensorflow_backend.py:4432: The name tf.random_uniform is deprecated. Please use tf.random.uniform instead.\n",
      "\n",
      "WARNING:tensorflow:From D:\\anaconda\\lib\\site-packages\\keras\\backend\\tensorflow_backend.py:148: The name tf.placeholder_with_default is deprecated. Please use tf.compat.v1.placeholder_with_default instead.\n",
      "\n",
      "WARNING:tensorflow:From D:\\anaconda\\lib\\site-packages\\keras\\backend\\tensorflow_backend.py:3733: calling dropout (from tensorflow.python.ops.nn_ops) with keep_prob is deprecated and will be removed in a future version.\n",
      "Instructions for updating:\n",
      "Please use `rate` instead of `keep_prob`. Rate should be set to `rate = 1 - keep_prob`.\n",
      "Model: \"sequential_1\"\n",
      "_________________________________________________________________\n",
      "Layer (type)                 Output Shape              Param #   \n",
      "=================================================================\n",
      "gru_1 (GRU)                  (None, 28, 10)            900       \n",
      "_________________________________________________________________\n",
      "gru_2 (GRU)                  (None, 20)                1860      \n",
      "_________________________________________________________________\n",
      "dense_1 (Dense)              (None, 1)                 21        \n",
      "=================================================================\n",
      "Total params: 2,781\n",
      "Trainable params: 2,781\n",
      "Non-trainable params: 0\n",
      "_________________________________________________________________\n",
      "None\n",
      "WARNING:tensorflow:From D:\\anaconda\\lib\\site-packages\\keras\\optimizers.py:793: The name tf.train.Optimizer is deprecated. Please use tf.compat.v1.train.Optimizer instead.\n",
      "\n",
      "WARNING:tensorflow:From D:\\anaconda\\lib\\site-packages\\tensorflow\\python\\ops\\math_grad.py:1250: add_dispatch_support.<locals>.wrapper (from tensorflow.python.ops.array_ops) is deprecated and will be removed in a future version.\n",
      "Instructions for updating:\n",
      "Use tf.where in 2.0, which has the same broadcast rule as np.where\n",
      "WARNING:tensorflow:From D:\\anaconda\\lib\\site-packages\\keras\\backend\\tensorflow_backend.py:1033: The name tf.assign_add is deprecated. Please use tf.compat.v1.assign_add instead.\n",
      "\n",
      "Train on 3103 samples, validate on 178 samples\n",
      "Epoch 1/50\n",
      "3103/3103 [==============================] - 6s 2ms/step - loss: 0.1424 - mean_squared_error: 0.0392 - val_loss: 0.1266 - val_mean_squared_error: 0.0184\n",
      "Epoch 2/50\n",
      "3103/3103 [==============================] - 2s 664us/step - loss: 0.0514 - mean_squared_error: 0.0052 - val_loss: 0.0328 - val_mean_squared_error: 0.0013\n",
      "Epoch 3/50\n",
      "3103/3103 [==============================] - 2s 687us/step - loss: 0.0316 - mean_squared_error: 0.0019 - val_loss: 0.0168 - val_mean_squared_error: 3.5496e-04\n",
      "Epoch 4/50\n",
      "3103/3103 [==============================] - 2s 759us/step - loss: 0.0249 - mean_squared_error: 0.0012 - val_loss: 0.0105 - val_mean_squared_error: 1.8866e-04\n",
      "Epoch 5/50\n",
      "3103/3103 [==============================] - 2s 643us/step - loss: 0.0199 - mean_squared_error: 7.8757e-04 - val_loss: 0.0101 - val_mean_squared_error: 1.9882e-04\n",
      "Epoch 6/50\n",
      "3103/3103 [==============================] - 2s 629us/step - loss: 0.0167 - mean_squared_error: 5.8486e-04 - val_loss: 0.0173 - val_mean_squared_error: 4.4111e-04\n",
      "Epoch 7/50\n",
      "3103/3103 [==============================] - 2s 652us/step - loss: 0.0155 - mean_squared_error: 5.0120e-04 - val_loss: 0.0082 - val_mean_squared_error: 1.2844e-04\n",
      "Epoch 8/50\n",
      "3103/3103 [==============================] - 2s 692us/step - loss: 0.0135 - mean_squared_error: 3.8109e-04 - val_loss: 0.0113 - val_mean_squared_error: 2.0639e-04\n",
      "Epoch 9/50\n",
      "3103/3103 [==============================] - 2s 643us/step - loss: 0.0133 - mean_squared_error: 3.7769e-04 - val_loss: 0.0081 - val_mean_squared_error: 1.2367e-04\n",
      "Epoch 10/50\n",
      "3103/3103 [==============================] - 2s 642us/step - loss: 0.0130 - mean_squared_error: 3.7180e-04 - val_loss: 0.0095 - val_mean_squared_error: 1.6538e-04\n",
      "Epoch 11/50\n",
      "3103/3103 [==============================] - 2s 614us/step - loss: 0.0118 - mean_squared_error: 3.0119e-04 - val_loss: 0.0094 - val_mean_squared_error: 1.2428e-04\n",
      "Epoch 12/50\n",
      "3103/3103 [==============================] - 2s 637us/step - loss: 0.0114 - mean_squared_error: 2.8680e-04 - val_loss: 0.0074 - val_mean_squared_error: 1.0098e-04\n",
      "Epoch 13/50\n",
      "3103/3103 [==============================] - 2s 617us/step - loss: 0.0113 - mean_squared_error: 2.9533e-04 - val_loss: 0.0112 - val_mean_squared_error: 1.6705e-04\n",
      "Epoch 14/50\n",
      "3103/3103 [==============================] - 2s 740us/step - loss: 0.0109 - mean_squared_error: 2.7938e-04 - val_loss: 0.0076 - val_mean_squared_error: 1.1476e-04\n",
      "Epoch 15/50\n",
      "3103/3103 [==============================] - 2s 652us/step - loss: 0.0109 - mean_squared_error: 2.7569e-04 - val_loss: 0.0071 - val_mean_squared_error: 9.9500e-05\n",
      "Epoch 16/50\n",
      "3103/3103 [==============================] - 2s 691us/step - loss: 0.0106 - mean_squared_error: 2.6302e-04 - val_loss: 0.0105 - val_mean_squared_error: 1.5163e-04\n",
      "Epoch 17/50\n",
      "3103/3103 [==============================] - 2s 754us/step - loss: 0.0106 - mean_squared_error: 2.5958e-04 - val_loss: 0.0079 - val_mean_squared_error: 1.2444e-04\n",
      "Epoch 18/50\n",
      "3103/3103 [==============================] - 2s 739us/step - loss: 0.0106 - mean_squared_error: 2.6241e-04 - val_loss: 0.0083 - val_mean_squared_error: 1.2511e-04\n",
      "Epoch 19/50\n",
      "3103/3103 [==============================] - 2s 756us/step - loss: 0.0104 - mean_squared_error: 2.5700e-04 - val_loss: 0.0081 - val_mean_squared_error: 1.2535e-04\n",
      "Epoch 20/50\n",
      "3103/3103 [==============================] - 3s 858us/step - loss: 0.0106 - mean_squared_error: 2.6313e-04 - val_loss: 0.0068 - val_mean_squared_error: 1.0198e-04\n",
      "Epoch 21/50\n",
      "3103/3103 [==============================] - 2s 761us/step - loss: 0.0106 - mean_squared_error: 2.6009e-04 - val_loss: 0.0139 - val_mean_squared_error: 2.4238e-04\n",
      "Epoch 22/50\n",
      "3103/3103 [==============================] - 2s 725us/step - loss: 0.0104 - mean_squared_error: 2.4997e-04 - val_loss: 0.0128 - val_mean_squared_error: 2.1687e-04\n",
      "Epoch 23/50\n",
      "3103/3103 [==============================] - 2s 689us/step - loss: 0.0105 - mean_squared_error: 2.5680e-04 - val_loss: 0.0107 - val_mean_squared_error: 1.5085e-04\n",
      "Epoch 24/50\n",
      "3103/3103 [==============================] - 2s 795us/step - loss: 0.0107 - mean_squared_error: 2.5527e-04 - val_loss: 0.0095 - val_mean_squared_error: 1.3111e-04\n",
      "Epoch 25/50\n",
      "3103/3103 [==============================] - 2s 743us/step - loss: 0.0103 - mean_squared_error: 2.5268e-04 - val_loss: 0.0076 - val_mean_squared_error: 1.0250e-04\n",
      "Epoch 26/50\n",
      "3103/3103 [==============================] - 2s 746us/step - loss: 0.0104 - mean_squared_error: 2.5447e-04 - val_loss: 0.0070 - val_mean_squared_error: 1.0183e-04\n",
      "Epoch 27/50\n",
      "3103/3103 [==============================] - 2s 700us/step - loss: 0.0104 - mean_squared_error: 2.5452e-04 - val_loss: 0.0067 - val_mean_squared_error: 9.3880e-05\n",
      "Epoch 28/50\n",
      "3103/3103 [==============================] - 3s 827us/step - loss: 0.0105 - mean_squared_error: 2.5666e-04 - val_loss: 0.0066 - val_mean_squared_error: 8.3834e-05\n",
      "Epoch 29/50\n",
      "3103/3103 [==============================] - 2s 684us/step - loss: 0.0102 - mean_squared_error: 2.4323e-04 - val_loss: 0.0069 - val_mean_squared_error: 9.0973e-05\n",
      "Epoch 30/50\n",
      "3103/3103 [==============================] - 2s 691us/step - loss: 0.0105 - mean_squared_error: 2.5773e-04 - val_loss: 0.0070 - val_mean_squared_error: 9.5356e-05\n",
      "Epoch 31/50\n",
      "3103/3103 [==============================] - 2s 739us/step - loss: 0.0104 - mean_squared_error: 2.5310e-04 - val_loss: 0.0080 - val_mean_squared_error: 1.1178e-04\n",
      "Epoch 32/50\n",
      "3103/3103 [==============================] - 2s 783us/step - loss: 0.0100 - mean_squared_error: 2.4280e-04 - val_loss: 0.0083 - val_mean_squared_error: 1.0428e-04\n",
      "Epoch 33/50\n"
     ]
    },
    {
     "name": "stdout",
     "output_type": "stream",
     "text": [
      "3103/3103 [==============================] - 2s 654us/step - loss: 0.0102 - mean_squared_error: 2.4762e-04 - val_loss: 0.0089 - val_mean_squared_error: 1.1852e-04\n",
      "Epoch 34/50\n",
      "3103/3103 [==============================] - 2s 687us/step - loss: 0.0106 - mean_squared_error: 2.5363e-04 - val_loss: 0.0087 - val_mean_squared_error: 1.3063e-04\n",
      "Epoch 35/50\n",
      "3103/3103 [==============================] - 2s 626us/step - loss: 0.0104 - mean_squared_error: 2.4990e-04 - val_loss: 0.0096 - val_mean_squared_error: 1.4426e-04\n",
      "Epoch 36/50\n",
      "3103/3103 [==============================] - 2s 622us/step - loss: 0.0101 - mean_squared_error: 2.5099e-04 - val_loss: 0.0072 - val_mean_squared_error: 9.8888e-05\n",
      "Epoch 37/50\n",
      "3103/3103 [==============================] - 2s 644us/step - loss: 0.0103 - mean_squared_error: 2.4941e-04 - val_loss: 0.0077 - val_mean_squared_error: 1.0272e-04\n",
      "Epoch 38/50\n",
      "3103/3103 [==============================] - 2s 616us/step - loss: 0.0100 - mean_squared_error: 2.3305e-04 - val_loss: 0.0071 - val_mean_squared_error: 1.0052e-04\n",
      "Epoch 39/50\n",
      "3103/3103 [==============================] - 2s 630us/step - loss: 0.0101 - mean_squared_error: 2.4745e-04 - val_loss: 0.0099 - val_mean_squared_error: 1.5030e-04\n",
      "Epoch 40/50\n",
      "3103/3103 [==============================] - 2s 669us/step - loss: 0.0099 - mean_squared_error: 2.3647e-04 - val_loss: 0.0092 - val_mean_squared_error: 1.3693e-04\n",
      "Epoch 41/50\n",
      "3103/3103 [==============================] - 2s 640us/step - loss: 0.0098 - mean_squared_error: 2.3296e-04 - val_loss: 0.0111 - val_mean_squared_error: 1.9074e-04\n",
      "Epoch 42/50\n",
      "3103/3103 [==============================] - 2s 612us/step - loss: 0.0101 - mean_squared_error: 2.3996e-04 - val_loss: 0.0096 - val_mean_squared_error: 1.5075e-04\n",
      "Epoch 43/50\n",
      "3103/3103 [==============================] - 2s 633us/step - loss: 0.0098 - mean_squared_error: 2.3208e-04 - val_loss: 0.0078 - val_mean_squared_error: 1.0851e-04\n",
      "Epoch 44/50\n",
      "3103/3103 [==============================] - 2s 658us/step - loss: 0.0099 - mean_squared_error: 2.3648e-04 - val_loss: 0.0104 - val_mean_squared_error: 1.6899e-04\n",
      "Epoch 45/50\n",
      "3103/3103 [==============================] - 2s 651us/step - loss: 0.0099 - mean_squared_error: 2.3512e-04 - val_loss: 0.0071 - val_mean_squared_error: 8.6611e-05\n",
      "Epoch 46/50\n",
      "3103/3103 [==============================] - 2s 615us/step - loss: 0.0100 - mean_squared_error: 2.3164e-04 - val_loss: 0.0073 - val_mean_squared_error: 7.6402e-05\n",
      "Epoch 47/50\n",
      "3103/3103 [==============================] - 2s 643us/step - loss: 0.0100 - mean_squared_error: 2.3183e-04 - val_loss: 0.0068 - val_mean_squared_error: 7.9236e-05\n",
      "Epoch 48/50\n",
      "3103/3103 [==============================] - 2s 681us/step - loss: 0.0098 - mean_squared_error: 2.2433e-04 - val_loss: 0.0074 - val_mean_squared_error: 9.7308e-05\n",
      "Epoch 49/50\n",
      "3103/3103 [==============================] - 2s 682us/step - loss: 0.0101 - mean_squared_error: 2.4176e-04 - val_loss: 0.0084 - val_mean_squared_error: 1.1995e-04\n",
      "Epoch 50/50\n",
      "3103/3103 [==============================] - 2s 656us/step - loss: 0.0098 - mean_squared_error: 2.3117e-04 - val_loss: 0.0074 - val_mean_squared_error: 9.5721e-05\n",
      "178/178 [==============================] - 0s 354us/step\n",
      "0 0 -9696.601410947165\n",
      "0 1 -9790.265805070554\n",
      "1 0 -9785.096398248283\n",
      "1 1 -9788.933654525867\n",
      "2 0 -9788.509771430636\n",
      "2 1 -9790.369819267198\n",
      "3 0 -9786.526443620773\n",
      "3 1 -9812.25512416269\n",
      "4 0 -9784.879115569907\n",
      "4 1 -9790.727426001613\n",
      "3 1\n",
      "RNN weight: 0.0 and ARMA weight: 1.0 -- MAE: 0.009806730908920832\n",
      "RNN weight: 0.1 and ARMA weight: 0.9 -- MAE: 0.009669504066104352\n",
      "RNN weight: 0.2 and ARMA weight: 0.8 -- MAE: 0.009545942378189343\n",
      "RNN weight: 0.30000000000000004 and ARMA weight: 0.7 -- MAE: 0.009429331855185553\n",
      "RNN weight: 0.4 and ARMA weight: 0.6 -- MAE: 0.00932715007594323\n",
      "RNN weight: 0.5 and ARMA weight: 0.5 -- MAE: 0.009238487087687444\n",
      "RNN weight: 0.6000000000000001 and ARMA weight: 0.3999999999999999 -- MAE: 0.00916651604295926\n",
      "RNN weight: 0.7000000000000001 and ARMA weight: 0.29999999999999993 -- MAE: 0.00911606287141365\n",
      "RNN weight: 0.8 and ARMA weight: 0.19999999999999996 -- MAE: 0.009099251303942629\n",
      "RNN weight: 0.9 and ARMA weight: 0.09999999999999998 -- MAE: 0.0091097005417658\n",
      "RNN weight: 1.0 and ARMA weight: 0.0 -- MAE: 0.009149807496701447\n"
     ]
    }
   ],
   "source": [
    "from model import mae, rmse, decide_weight, combine_model\n",
    "from model import Model, BenchPredict, NN, RNN, Arma\n",
    "RNN_model = RNN(data_model=data, lb=28, la=1) # -- RNN CLASS\n",
    "ARMA_data = DataSplit(instance.unprep_data, instance.unprep_data['return'], 20100101, 20180630, 20181231, 20190831, 7) # -- ARMA DATA PROCESS\n",
    "ARMA_model = Arma(data_model=ARMA_data) # -- ARMA CLASS\n",
    "Embed_model = combine_model(RNN_model, ARMA_model)"
   ]
  },
  {
   "cell_type": "code",
   "execution_count": 4,
   "metadata": {},
   "outputs": [
    {
     "data": {
      "text/plain": [
       "(237, 1)"
      ]
     },
     "execution_count": 4,
     "metadata": {},
     "output_type": "execute_result"
    }
   ],
   "source": [
    "Embed_model['test'].shape"
   ]
  },
  {
   "cell_type": "code",
   "execution_count": 19,
   "metadata": {},
   "outputs": [],
   "source": [
    "valid_date = data.vld_date\n",
    "test_date = data.test_date\n",
    "valid_price = instance.unprep_data[instance.unprep_data.index.isin(valid_date)]['Bitcoin Core (BTC) Price']\n",
    "test_price = instance.unprep_data[instance.unprep_data.index.isin(test_date)]['Bitcoin Core (BTC) Price']\n",
    "valid_return = pd.Series(Embed_model['valid'].reshape(-1), valid_date)\n",
    "test_return = pd.Series(Embed_model['test'].reshape(-1), test_date)"
   ]
  },
  {
   "cell_type": "markdown",
   "metadata": {},
   "source": [
    "Conduct trading strategy"
   ]
  },
  {
   "cell_type": "code",
   "execution_count": 15,
   "metadata": {},
   "outputs": [],
   "source": [
    "pnl = np.ones(len(valid_return))\n",
    "for i in range(len(valid_return)-7):\n",
    "    if i%7 == 0:\n",
    "        if valid_return.iloc[i] > 0:\n",
    "            for j in range(0, 7):\n",
    "                pnl[i+j+1] = pnl[i+j] * 0.5 * (valid_price.iloc[i+j+1] / valid_price.iloc[i+j]) + pnl[i+j] * 0.5\n",
    "        if valid_return.iloc[i] < 0:\n",
    "            for j in range(0, 7):\n",
    "                pnl[i+j+1] = pnl[i+j] * 0.5 * (2-valid_price.iloc[i+j+1] / valid_price.iloc[i+j]) + pnl[i+j] * 0.5\n",
    "pnl = pnl[pnl!=1]\n"
   ]
  },
  {
   "cell_type": "code",
   "execution_count": 16,
   "metadata": {},
   "outputs": [
    {
     "data": {
      "text/plain": [
       "[<matplotlib.lines.Line2D at 0x200ef6a6320>]"
      ]
     },
     "execution_count": 16,
     "metadata": {},
     "output_type": "execute_result"
    },
    {
     "data": {
      "image/png": "[encoded data removed]",
      "text/plain": [
       "<Figure size 432x288 with 1 Axes>"
      ]
     },
     "metadata": {
      "needs_background": "light"
     },
     "output_type": "display_data"
    }
   ],
   "source": [
    "plt.plot(pnl)"
   ]
  },
  {
   "cell_type": "markdown",
   "metadata": {},
   "source": [
    "Now we test the performance on test set"
   ]
  },
  {
   "cell_type": "code",
   "execution_count": 20,
   "metadata": {},
   "outputs": [],
   "source": [
    "pnl = np.ones(len(test_return))\n",
    "for i in range(len(test_return)-8):\n",
    "    if i%7 == 0:\n",
    "        if test_return.iloc[i] > 0:\n",
    "            for j in range(0, 7):\n",
    "                pnl[i+j+1] = pnl[i+j] * 0.5 * (test_price.iloc[i+j+1] / test_price.iloc[i+j]) + pnl[i+j] * 0.5\n",
    "        if test_return.iloc[i] < 0:\n",
    "            for j in range(0, 7):\n",
    "                pnl[i+j+1] = pnl[i+j] * 0.5 * (2-test_price.iloc[i+j+1] / test_price.iloc[i+j]) + pnl[i+j] * 0.5\n",
    "pnl = pnl[pnl!=1]"
   ]
  },
  {
   "cell_type": "code",
   "execution_count": 21,
   "metadata": {},
   "outputs": [
    {
     "data": {
      "text/plain": [
       "[<matplotlib.lines.Line2D at 0x200ef7436a0>]"
      ]
     },
     "execution_count": 21,
     "metadata": {},
     "output_type": "execute_result"
    },
    {
     "data": {
      "image/png": "[encoded data removed]",
      "text/plain": [
       "<Figure size 432x288 with 1 Axes>"
      ]
     },
     "metadata": {
      "needs_background": "light"
     },
     "output_type": "display_data"
    }
   ],
   "source": [
    "plt.plot(pnl)"
   ]
  },
  {
   "cell_type": "markdown",
   "metadata": {},
   "source": [
    "Hold-out is the last 25 value of pnl, which acts like the follows:"
   ]
  },
  {
   "cell_type": "code",
   "execution_count": 22,
   "metadata": {},
   "outputs": [
    {
     "data": {
      "text/plain": [
       "[<matplotlib.lines.Line2D at 0x200ef7a62b0>]"
      ]
     },
     "execution_count": 22,
     "metadata": {},
     "output_type": "execute_result"
    },
    {
     "data": {
      "image/png": "[encoded data removed]",
      "text/plain": [
       "<Figure size 432x288 with 1 Axes>"
      ]
     },
     "metadata": {
      "needs_background": "light"
     },
     "output_type": "display_data"
    }
   ],
   "source": [
    "pnl = pnl[-25:]\n",
    "pnl = pnl/pnl[0]\n",
    "plt.plot(pnl)\n"
   ]
  },
  {
   "cell_type": "code",
   "execution_count": null,
   "metadata": {},
   "outputs": [],
   "source": []
  }
 ],
 "metadata": {
  "kernelspec": {
   "display_name": "Python 3",
   "language": "python",
   "name": "python3"
  },
  "language_info": {
   "codemirror_mode": {
    "name": "ipython",
    "version": 3
   },
   "file_extension": ".py",
   "mimetype": "text/x-python",
   "name": "python",
   "nbconvert_exporter": "python",
   "pygments_lexer": "ipython3",
   "version": "3.7.1"
  }
 },
 "nbformat": 4,
 "nbformat_minor": 2
}
