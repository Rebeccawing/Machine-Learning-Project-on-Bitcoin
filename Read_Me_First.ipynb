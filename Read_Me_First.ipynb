{
 "cells": [
  {
   "cell_type": "markdown",
   "metadata": {},
   "source": [
    "# MFE 230T: Introduction to Deep Learning"
   ]
  },
  {
   "cell_type": "markdown",
   "metadata": {},
   "source": [
    "Student Name: Shiying Cui  \n",
    "Student ID: 3034369225    \n",
    "Group Name: Balalalla"
   ]
  },
  {
   "cell_type": "code",
   "execution_count": 2,
   "metadata": {},
   "outputs": [
    {
     "data": {
      "text/plain": [
       "'\\nFile includes:\\n\\nThings to execute:\\n    1. Part1.ipynb -- Present part 1 of assignment\\n    2. Main_Model.ipynb -- Present part 2, 3, 4 of assignment\\n    3. Trading Strategy.ipynb -- Present part 5 of assignment\\n    \\nThings to presentation:\\n    1. ......pdf -- write-up of this project, graphs, statistics and corresponding interpretation included\\n    \\nThings to faciliate:\\n    1. basic_io.py -- save data-processing class\\n    2. model.py -- save all models class\\n    3. constants.py -- save all constants (class objects, dataframes etc) to support main_model\\n\\n'"
      ]
     },
     "execution_count": 2,
     "metadata": {},
     "output_type": "execute_result"
    }
   ],
   "source": [
    "#######################################################################\n",
    "######################## Framework ####################################\n",
    "#######################################################################\n",
    "\n",
    "'''\n",
    "File includes:\n",
    "\n",
    "Things to execute:\n",
    "    1. Part1.ipynb -- Present part 1 of assignment\n",
    "    2. Main_Model.ipynb -- Present part 2, 3, 4 of assignment\n",
    "    3. Trading Strategy.ipynb -- Present part 5 of assignment\n",
    "    \n",
    "Things to presentation:\n",
    "    1. 230T-report.pdf -- write-up of this project, graphs, statistics and corresponding interpretation included\n",
    "    \n",
    "Things to faciliate:\n",
    "    1. basic_io.py -- save data-processing class\n",
    "    2. model.py -- save all models class\n",
    "    3. constants.py -- save all constants (class objects, dataframes etc) to support main_model\n",
    "\n",
    "'''"
   ]
  },
  {
   "cell_type": "markdown",
   "metadata": {},
   "source": [
    "You can check 230T-report.pdf and run part1, Main_Model, Trading Strategy to see our overall results."
   ]
  },
  {
   "cell_type": "code",
   "execution_count": null,
   "metadata": {},
   "outputs": [],
   "source": []
  }
 ],
 "metadata": {
  "kernelspec": {
   "display_name": "Python 3",
   "language": "python",
   "name": "python3"
  },
  "language_info": {
   "codemirror_mode": {
    "name": "ipython",
    "version": 3
   },
   "file_extension": ".py",
   "mimetype": "text/x-python",
   "name": "python",
   "nbconvert_exporter": "python",
   "pygments_lexer": "ipython3",
   "version": "3.7.1"
  }
 },
 "nbformat": 4,
 "nbformat_minor": 2
}
